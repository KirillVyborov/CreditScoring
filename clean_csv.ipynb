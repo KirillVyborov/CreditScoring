{
  "cells": [
    {
      "cell_type": "code",
      "execution_count": 15,
      "metadata": {
        "id": "hiMR-pRjA_KP"
      },
      "outputs": [],
      "source": [
        "import pandas as pd\n",
        "import numpy as np\n",
        "from sklearn.preprocessing import LabelEncoder\n",
        "from scipy import stats\n",
        "import seaborn as sns\n",
        "import matplotlib.pyplot as plt"
      ]
    },
    {
      "cell_type": "code",
      "execution_count": 16,
      "metadata": {
        "id": "5xZECHHaBDOg"
      },
      "outputs": [],
      "source": [
        "df = pd.read_csv('credit_scoring.csv')"
      ]
    },
    {
      "cell_type": "code",
      "execution_count": 17,
      "metadata": {
        "colab": {
          "base_uri": "https://localhost:8080/"
        },
        "id": "KdR0lOIJUZ88",
        "outputId": "cff6cd8f-43bc-4357-e9f6-0cc10754daea"
      },
      "outputs": [
        {
          "name": "stdout",
          "output_type": "stream",
          "text": [
            "<class 'pandas.core.frame.DataFrame'>\n",
            "RangeIndex: 150000 entries, 0 to 149999\n",
            "Data columns (total 12 columns):\n",
            " #   Column                                Non-Null Count   Dtype  \n",
            "---  ------                                --------------   -----  \n",
            " 0   SeriousDlqin2yrs                      150000 non-null  int64  \n",
            " 1   RevolvingUtilizationOfUnsecuredLines  150000 non-null  float64\n",
            " 2   age                                   135155 non-null  float64\n",
            " 3   NumberOfTime30-59DaysPastDueNotWorse  150000 non-null  int64  \n",
            " 4   DebtRatio                             150000 non-null  float64\n",
            " 5   MonthlyIncome                         120269 non-null  float64\n",
            " 6   NumberOfOpenCreditLinesAndLoans       150000 non-null  int64  \n",
            " 7   NumberOfTimes90DaysLate               150000 non-null  int64  \n",
            " 8   NumberOfTime60-89DaysPastDueNotWorse  150000 non-null  int64  \n",
            " 9   NumberOfDependents                    146076 non-null  float64\n",
            " 10  RealEstateLoansOrLines                150000 non-null  object \n",
            " 11  GroupAge                              150000 non-null  object \n",
            "dtypes: float64(5), int64(5), object(2)\n",
            "memory usage: 13.7+ MB\n"
          ]
        }
      ],
      "source": [
        "df.info()"
      ]
    },
    {
      "cell_type": "code",
      "execution_count": 18,
      "metadata": {
        "id": "vP4p0PZmBGuc"
      },
      "outputs": [],
      "source": [
        "df = df.fillna(df.median(numeric_only=True))"
      ]
    },
    {
      "cell_type": "code",
      "execution_count": 19,
      "metadata": {
        "colab": {
          "base_uri": "https://localhost:8080/"
        },
        "id": "lslca90_UcWh",
        "outputId": "6cbd648f-fb1b-43eb-9c0d-4a604bac8bcd"
      },
      "outputs": [
        {
          "name": "stdout",
          "output_type": "stream",
          "text": [
            "<class 'pandas.core.frame.DataFrame'>\n",
            "RangeIndex: 150000 entries, 0 to 149999\n",
            "Data columns (total 12 columns):\n",
            " #   Column                                Non-Null Count   Dtype  \n",
            "---  ------                                --------------   -----  \n",
            " 0   SeriousDlqin2yrs                      150000 non-null  int64  \n",
            " 1   RevolvingUtilizationOfUnsecuredLines  150000 non-null  float64\n",
            " 2   age                                   150000 non-null  float64\n",
            " 3   NumberOfTime30-59DaysPastDueNotWorse  150000 non-null  int64  \n",
            " 4   DebtRatio                             150000 non-null  float64\n",
            " 5   MonthlyIncome                         150000 non-null  float64\n",
            " 6   NumberOfOpenCreditLinesAndLoans       150000 non-null  int64  \n",
            " 7   NumberOfTimes90DaysLate               150000 non-null  int64  \n",
            " 8   NumberOfTime60-89DaysPastDueNotWorse  150000 non-null  int64  \n",
            " 9   NumberOfDependents                    150000 non-null  float64\n",
            " 10  RealEstateLoansOrLines                150000 non-null  object \n",
            " 11  GroupAge                              150000 non-null  object \n",
            "dtypes: float64(5), int64(5), object(2)\n",
            "memory usage: 13.7+ MB\n"
          ]
        }
      ],
      "source": [
        "df.info()"
      ]
    },
    {
      "cell_type": "code",
      "execution_count": 20,
      "metadata": {
        "id": "2jRpL7k6BJjo"
      },
      "outputs": [],
      "source": [
        "le = LabelEncoder()\n",
        "df['GroupAge'] = le.fit_transform(df['GroupAge'])\n",
        "df['RealEstateLoansOrLines'] = le.fit_transform(df['RealEstateLoansOrLines'])"
      ]
    },
    {
      "cell_type": "code",
      "execution_count": 21,
      "metadata": {
        "colab": {
          "base_uri": "https://localhost:8080/"
        },
        "id": "R7OdXMdTBrjN",
        "outputId": "59422512-24f1-4fd8-9a67-e98386a39738"
      },
      "outputs": [
        {
          "data": {
            "text/plain": [
              "array([2, 1, 3, 4, 0])"
            ]
          },
          "execution_count": 21,
          "metadata": {},
          "output_type": "execute_result"
        }
      ],
      "source": [
        "df['GroupAge'].unique()"
      ]
    },
    {
      "cell_type": "code",
      "execution_count": 22,
      "metadata": {
        "colab": {
          "base_uri": "https://localhost:8080/"
        },
        "id": "dcMAxjImByiy",
        "outputId": "18e89195-d4ea-4897-8cec-0a248f920bec"
      },
      "outputs": [
        {
          "data": {
            "text/plain": [
              "array([0, 1, 2, 4, 3])"
            ]
          },
          "execution_count": 22,
          "metadata": {},
          "output_type": "execute_result"
        }
      ],
      "source": [
        "df['RealEstateLoansOrLines'].unique()"
      ]
    },
    {
      "cell_type": "code",
      "execution_count": 23,
      "metadata": {
        "id": "HofKEG5xYLcZ"
      },
      "outputs": [],
      "source": [
        "exclude_columns = ['SeriousDlqin2yrs', 'RealEstateLoansOrLines']\n",
        "cols = [col for col in df.select_dtypes(include=[np.number]).columns if col not in exclude_columns]\n",
        "outliers_mask = np.abs(stats.zscore(df[cols])) > 3\n",
        "df = df[~outliers_mask.any(axis=1)]"
      ]
    },
    {
      "cell_type": "code",
      "execution_count": null,
      "metadata": {
        "id": "FOHbuZvna02Z"
      },
      "outputs": [],
      "source": [
        "df = df[df['RevolvingUtilizationOfUnsecuredLines'] <= 6]"
      ]
    },
    {
      "cell_type": "code",
      "execution_count": 25,
      "metadata": {
        "colab": {
          "base_uri": "https://localhost:8080/",
          "height": 564
        },
        "id": "d3IJSiv7dpru",
        "outputId": "c346c707-45c4-4785-ee6a-616eee1d0b37"
      },
      "outputs": [
        {
          "data": {
            "image/png": "[encoded data removed]",
            "text/plain": [
              "<Figure size 800x600 with 1 Axes>"
            ]
          },
          "metadata": {},
          "output_type": "display_data"
        }
      ],
      "source": [
        "plt.figure(figsize=(8, 6))\n",
        "sns.boxplot(data=df, x='RevolvingUtilizationOfUnsecuredLines')\n",
        "plt.title('Boxplot для обнаружения выбросов')\n",
        "plt.show()"
      ]
    },
    {
      "cell_type": "code",
      "execution_count": 26,
      "metadata": {
        "colab": {
          "base_uri": "https://localhost:8080/",
          "height": 338
        },
        "id": "D3ZynlSOa1i4",
        "outputId": "6a982e0e-0f82-40c7-eabc-31f8eab1897e"
      },
      "outputs": [
        {
          "data": {
            "text/html": [
              "<div>\n",
              "<style scoped>\n",
              "    .dataframe tbody tr th:only-of-type {\n",
              "        vertical-align: middle;\n",
              "    }\n",
              "\n",
              "    .dataframe tbody tr th {\n",
              "        vertical-align: top;\n",
              "    }\n",
              "\n",
              "    .dataframe thead th {\n",
              "        text-align: right;\n",
              "    }\n",
              "</style>\n",
              "<table border=\"1\" class=\"dataframe\">\n",
              "  <thead>\n",
              "    <tr style=\"text-align: right;\">\n",
              "      <th></th>\n",
              "      <th>SeriousDlqin2yrs</th>\n",
              "      <th>RevolvingUtilizationOfUnsecuredLines</th>\n",
              "      <th>age</th>\n",
              "      <th>NumberOfTime30-59DaysPastDueNotWorse</th>\n",
              "      <th>DebtRatio</th>\n",
              "      <th>MonthlyIncome</th>\n",
              "      <th>NumberOfOpenCreditLinesAndLoans</th>\n",
              "      <th>NumberOfTimes90DaysLate</th>\n",
              "      <th>NumberOfTime60-89DaysPastDueNotWorse</th>\n",
              "      <th>NumberOfDependents</th>\n",
              "      <th>RealEstateLoansOrLines</th>\n",
              "      <th>GroupAge</th>\n",
              "    </tr>\n",
              "  </thead>\n",
              "  <tbody>\n",
              "    <tr>\n",
              "      <th>count</th>\n",
              "      <td>145565.000000</td>\n",
              "      <td>145565.000000</td>\n",
              "      <td>145565.000000</td>\n",
              "      <td>145565.000000</td>\n",
              "      <td>145565.000000</td>\n",
              "      <td>145565.000000</td>\n",
              "      <td>145565.000000</td>\n",
              "      <td>145565.000000</td>\n",
              "      <td>145565.000000</td>\n",
              "      <td>145565.000000</td>\n",
              "      <td>145565.000000</td>\n",
              "      <td>145565.000000</td>\n",
              "    </tr>\n",
              "    <tr>\n",
              "      <th>mean</th>\n",
              "      <td>0.065661</td>\n",
              "      <td>0.321627</td>\n",
              "      <td>52.225892</td>\n",
              "      <td>0.243259</td>\n",
              "      <td>301.022977</td>\n",
              "      <td>6116.172040</td>\n",
              "      <td>8.200460</td>\n",
              "      <td>0.090338</td>\n",
              "      <td>0.064755</td>\n",
              "      <td>0.707320</td>\n",
              "      <td>0.068911</td>\n",
              "      <td>2.769945</td>\n",
              "    </tr>\n",
              "    <tr>\n",
              "      <th>std</th>\n",
              "      <td>0.247690</td>\n",
              "      <td>0.364607</td>\n",
              "      <td>14.039375</td>\n",
              "      <td>0.692302</td>\n",
              "      <td>874.501924</td>\n",
              "      <td>4015.508677</td>\n",
              "      <td>4.631629</td>\n",
              "      <td>0.474328</td>\n",
              "      <td>0.329038</td>\n",
              "      <td>1.040161</td>\n",
              "      <td>0.283312</td>\n",
              "      <td>0.992767</td>\n",
              "    </tr>\n",
              "    <tr>\n",
              "      <th>min</th>\n",
              "      <td>0.000000</td>\n",
              "      <td>0.000000</td>\n",
              "      <td>21.000000</td>\n",
              "      <td>0.000000</td>\n",
              "      <td>0.000000</td>\n",
              "      <td>0.000000</td>\n",
              "      <td>0.000000</td>\n",
              "      <td>0.000000</td>\n",
              "      <td>0.000000</td>\n",
              "      <td>0.000000</td>\n",
              "      <td>0.000000</td>\n",
              "      <td>1.000000</td>\n",
              "    </tr>\n",
              "    <tr>\n",
              "      <th>25%</th>\n",
              "      <td>0.000000</td>\n",
              "      <td>0.029415</td>\n",
              "      <td>42.000000</td>\n",
              "      <td>0.000000</td>\n",
              "      <td>0.174510</td>\n",
              "      <td>3868.000000</td>\n",
              "      <td>5.000000</td>\n",
              "      <td>0.000000</td>\n",
              "      <td>0.000000</td>\n",
              "      <td>0.000000</td>\n",
              "      <td>0.000000</td>\n",
              "      <td>2.000000</td>\n",
              "    </tr>\n",
              "    <tr>\n",
              "      <th>50%</th>\n",
              "      <td>0.000000</td>\n",
              "      <td>0.151419</td>\n",
              "      <td>52.000000</td>\n",
              "      <td>0.000000</td>\n",
              "      <td>0.364756</td>\n",
              "      <td>5400.000000</td>\n",
              "      <td>8.000000</td>\n",
              "      <td>0.000000</td>\n",
              "      <td>0.000000</td>\n",
              "      <td>0.000000</td>\n",
              "      <td>0.000000</td>\n",
              "      <td>3.000000</td>\n",
              "    </tr>\n",
              "    <tr>\n",
              "      <th>75%</th>\n",
              "      <td>0.000000</td>\n",
              "      <td>0.554913</td>\n",
              "      <td>62.000000</td>\n",
              "      <td>0.000000</td>\n",
              "      <td>0.856699</td>\n",
              "      <td>7294.000000</td>\n",
              "      <td>11.000000</td>\n",
              "      <td>0.000000</td>\n",
              "      <td>0.000000</td>\n",
              "      <td>1.000000</td>\n",
              "      <td>0.000000</td>\n",
              "      <td>4.000000</td>\n",
              "    </tr>\n",
              "    <tr>\n",
              "      <th>max</th>\n",
              "      <td>1.000000</td>\n",
              "      <td>6.000000</td>\n",
              "      <td>94.000000</td>\n",
              "      <td>12.000000</td>\n",
              "      <td>6466.000000</td>\n",
              "      <td>45000.000000</td>\n",
              "      <td>23.000000</td>\n",
              "      <td>12.000000</td>\n",
              "      <td>11.000000</td>\n",
              "      <td>4.000000</td>\n",
              "      <td>3.000000</td>\n",
              "      <td>4.000000</td>\n",
              "    </tr>\n",
              "  </tbody>\n",
              "</table>\n",
              "</div>"
            ],
            "text/plain": [
              "       SeriousDlqin2yrs  RevolvingUtilizationOfUnsecuredLines            age  \\\n",
              "count     145565.000000                         145565.000000  145565.000000   \n",
              "mean           0.065661                              0.321627      52.225892   \n",
              "std            0.247690                              0.364607      14.039375   \n",
              "min            0.000000                              0.000000      21.000000   \n",
              "25%            0.000000                              0.029415      42.000000   \n",
              "50%            0.000000                              0.151419      52.000000   \n",
              "75%            0.000000                              0.554913      62.000000   \n",
              "max            1.000000                              6.000000      94.000000   \n",
              "\n",
              "       NumberOfTime30-59DaysPastDueNotWorse      DebtRatio  MonthlyIncome  \\\n",
              "count                         145565.000000  145565.000000  145565.000000   \n",
              "mean                               0.243259     301.022977    6116.172040   \n",
              "std                                0.692302     874.501924    4015.508677   \n",
              "min                                0.000000       0.000000       0.000000   \n",
              "25%                                0.000000       0.174510    3868.000000   \n",
              "50%                                0.000000       0.364756    5400.000000   \n",
              "75%                                0.000000       0.856699    7294.000000   \n",
              "max                               12.000000    6466.000000   45000.000000   \n",
              "\n",
              "       NumberOfOpenCreditLinesAndLoans  NumberOfTimes90DaysLate  \\\n",
              "count                    145565.000000            145565.000000   \n",
              "mean                          8.200460                 0.090338   \n",
              "std                           4.631629                 0.474328   \n",
              "min                           0.000000                 0.000000   \n",
              "25%                           5.000000                 0.000000   \n",
              "50%                           8.000000                 0.000000   \n",
              "75%                          11.000000                 0.000000   \n",
              "max                          23.000000                12.000000   \n",
              "\n",
              "       NumberOfTime60-89DaysPastDueNotWorse  NumberOfDependents  \\\n",
              "count                         145565.000000       145565.000000   \n",
              "mean                               0.064755            0.707320   \n",
              "std                                0.329038            1.040161   \n",
              "min                                0.000000            0.000000   \n",
              "25%                                0.000000            0.000000   \n",
              "50%                                0.000000            0.000000   \n",
              "75%                                0.000000            1.000000   \n",
              "max                               11.000000            4.000000   \n",
              "\n",
              "       RealEstateLoansOrLines       GroupAge  \n",
              "count           145565.000000  145565.000000  \n",
              "mean                 0.068911       2.769945  \n",
              "std                  0.283312       0.992767  \n",
              "min                  0.000000       1.000000  \n",
              "25%                  0.000000       2.000000  \n",
              "50%                  0.000000       3.000000  \n",
              "75%                  0.000000       4.000000  \n",
              "max                  3.000000       4.000000  "
            ]
          },
          "execution_count": 26,
          "metadata": {},
          "output_type": "execute_result"
        }
      ],
      "source": [
        "df.describe()"
      ]
    },
    {
      "cell_type": "code",
      "execution_count": 27,
      "metadata": {
        "id": "nodFYa6xcdp1"
      },
      "outputs": [],
      "source": [
        "df.to_csv('cleaned_df.csv', index=False)"
      ]
    }
  ],
  "metadata": {
    "colab": {
      "provenance": []
    },
    "kernelspec": {
      "display_name": "Python 3",
      "name": "python3"
    },
    "language_info": {
      "name": "python",
      "version": "3.11.9"
    }
  },
  "nbformat": 4,
  "nbformat_minor": 0
}

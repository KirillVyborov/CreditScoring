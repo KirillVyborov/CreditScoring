{
  "cells": [
    {
      "cell_type": "code",
      "execution_count": 150,
      "metadata": {
        "id": "hiMR-pRjA_KP"
      },
      "outputs": [],
      "source": [
        "import pandas as pd\n",
        "import numpy as np\n",
        "from sklearn.preprocessing import LabelEncoder\n",
        "from scipy import stats\n",
        "import seaborn as sns\n",
        "import matplotlib.pyplot as plt"
      ]
    },
    {
      "cell_type": "code",
      "execution_count": 151,
      "metadata": {
        "id": "5xZECHHaBDOg"
      },
      "outputs": [],
      "source": [
        "df = pd.read_csv('credit_scoring.csv')"
      ]
    },
    {
      "cell_type": "code",
      "execution_count": 152,
      "metadata": {},
      "outputs": [
        {
          "data": {
            "text/html": [
              "<div>\n",
              "<style scoped>\n",
              "    .dataframe tbody tr th:only-of-type {\n",
              "        vertical-align: middle;\n",
              "    }\n",
              "\n",
              "    .dataframe tbody tr th {\n",
              "        vertical-align: top;\n",
              "    }\n",
              "\n",
              "    .dataframe thead th {\n",
              "        text-align: right;\n",
              "    }\n",
              "</style>\n",
              "<table border=\"1\" class=\"dataframe\">\n",
              "  <thead>\n",
              "    <tr style=\"text-align: right;\">\n",
              "      <th></th>\n",
              "      <th>SeriousDlqin2yrs</th>\n",
              "      <th>RevolvingUtilizationOfUnsecuredLines</th>\n",
              "      <th>age</th>\n",
              "      <th>NumberOfTime30-59DaysPastDueNotWorse</th>\n",
              "      <th>DebtRatio</th>\n",
              "      <th>MonthlyIncome</th>\n",
              "      <th>NumberOfOpenCreditLinesAndLoans</th>\n",
              "      <th>NumberOfTimes90DaysLate</th>\n",
              "      <th>NumberOfTime60-89DaysPastDueNotWorse</th>\n",
              "      <th>NumberOfDependents</th>\n",
              "      <th>RealEstateLoansOrLines</th>\n",
              "      <th>GroupAge</th>\n",
              "    </tr>\n",
              "  </thead>\n",
              "  <tbody>\n",
              "    <tr>\n",
              "      <th>0</th>\n",
              "      <td>0</td>\n",
              "      <td>0.221813</td>\n",
              "      <td>43.0</td>\n",
              "      <td>0</td>\n",
              "      <td>0.527888</td>\n",
              "      <td>3280.0</td>\n",
              "      <td>7</td>\n",
              "      <td>0</td>\n",
              "      <td>0</td>\n",
              "      <td>2.0</td>\n",
              "      <td>A</td>\n",
              "      <td>c</td>\n",
              "    </tr>\n",
              "    <tr>\n",
              "      <th>1</th>\n",
              "      <td>0</td>\n",
              "      <td>0.602794</td>\n",
              "      <td>25.0</td>\n",
              "      <td>0</td>\n",
              "      <td>0.065868</td>\n",
              "      <td>333.0</td>\n",
              "      <td>2</td>\n",
              "      <td>0</td>\n",
              "      <td>0</td>\n",
              "      <td>0.0</td>\n",
              "      <td>A</td>\n",
              "      <td>b</td>\n",
              "    </tr>\n",
              "    <tr>\n",
              "      <th>2</th>\n",
              "      <td>1</td>\n",
              "      <td>0.025656</td>\n",
              "      <td>38.0</td>\n",
              "      <td>0</td>\n",
              "      <td>0.475841</td>\n",
              "      <td>3000.0</td>\n",
              "      <td>7</td>\n",
              "      <td>0</td>\n",
              "      <td>0</td>\n",
              "      <td>2.0</td>\n",
              "      <td>A</td>\n",
              "      <td>c</td>\n",
              "    </tr>\n",
              "    <tr>\n",
              "      <th>3</th>\n",
              "      <td>0</td>\n",
              "      <td>0.075427</td>\n",
              "      <td>32.0</td>\n",
              "      <td>0</td>\n",
              "      <td>0.085512</td>\n",
              "      <td>7916.0</td>\n",
              "      <td>6</td>\n",
              "      <td>0</td>\n",
              "      <td>0</td>\n",
              "      <td>0.0</td>\n",
              "      <td>A</td>\n",
              "      <td>b</td>\n",
              "    </tr>\n",
              "    <tr>\n",
              "      <th>4</th>\n",
              "      <td>0</td>\n",
              "      <td>0.046560</td>\n",
              "      <td>58.0</td>\n",
              "      <td>0</td>\n",
              "      <td>0.241622</td>\n",
              "      <td>2416.0</td>\n",
              "      <td>9</td>\n",
              "      <td>0</td>\n",
              "      <td>0</td>\n",
              "      <td>0.0</td>\n",
              "      <td>A</td>\n",
              "      <td>d</td>\n",
              "    </tr>\n",
              "  </tbody>\n",
              "</table>\n",
              "</div>"
            ],
            "text/plain": [
              "   SeriousDlqin2yrs  RevolvingUtilizationOfUnsecuredLines   age  \\\n",
              "0                 0                              0.221813  43.0   \n",
              "1                 0                              0.602794  25.0   \n",
              "2                 1                              0.025656  38.0   \n",
              "3                 0                              0.075427  32.0   \n",
              "4                 0                              0.046560  58.0   \n",
              "\n",
              "   NumberOfTime30-59DaysPastDueNotWorse  DebtRatio  MonthlyIncome  \\\n",
              "0                                     0   0.527888         3280.0   \n",
              "1                                     0   0.065868          333.0   \n",
              "2                                     0   0.475841         3000.0   \n",
              "3                                     0   0.085512         7916.0   \n",
              "4                                     0   0.241622         2416.0   \n",
              "\n",
              "   NumberOfOpenCreditLinesAndLoans  NumberOfTimes90DaysLate  \\\n",
              "0                                7                        0   \n",
              "1                                2                        0   \n",
              "2                                7                        0   \n",
              "3                                6                        0   \n",
              "4                                9                        0   \n",
              "\n",
              "   NumberOfTime60-89DaysPastDueNotWorse  NumberOfDependents  \\\n",
              "0                                     0                 2.0   \n",
              "1                                     0                 0.0   \n",
              "2                                     0                 2.0   \n",
              "3                                     0                 0.0   \n",
              "4                                     0                 0.0   \n",
              "\n",
              "  RealEstateLoansOrLines GroupAge  \n",
              "0                      A        c  \n",
              "1                      A        b  \n",
              "2                      A        c  \n",
              "3                      A        b  \n",
              "4                      A        d  "
            ]
          },
          "execution_count": 152,
          "metadata": {},
          "output_type": "execute_result"
        }
      ],
      "source": [
        "df.head()"
      ]
    },
    {
      "cell_type": "code",
      "execution_count": 153,
      "metadata": {},
      "outputs": [
        {
          "data": {
            "text/plain": [
              "SeriousDlqin2yrs                            0\n",
              "RevolvingUtilizationOfUnsecuredLines        0\n",
              "age                                     14845\n",
              "NumberOfTime30-59DaysPastDueNotWorse        0\n",
              "DebtRatio                                   0\n",
              "MonthlyIncome                           29731\n",
              "NumberOfOpenCreditLinesAndLoans             0\n",
              "NumberOfTimes90DaysLate                     0\n",
              "NumberOfTime60-89DaysPastDueNotWorse        0\n",
              "NumberOfDependents                       3924\n",
              "RealEstateLoansOrLines                      0\n",
              "GroupAge                                    0\n",
              "dtype: int64"
            ]
          },
          "execution_count": 153,
          "metadata": {},
          "output_type": "execute_result"
        }
      ],
      "source": [
        "df.isna().sum()"
      ]
    },
    {
      "cell_type": "code",
      "execution_count": 154,
      "metadata": {
        "id": "vP4p0PZmBGuc"
      },
      "outputs": [],
      "source": [
        "df = df.fillna(df.median(numeric_only=True))"
      ]
    },
    {
      "cell_type": "code",
      "execution_count": 155,
      "metadata": {
        "colab": {
          "base_uri": "https://localhost:8080/"
        },
        "id": "lslca90_UcWh",
        "outputId": "6cbd648f-fb1b-43eb-9c0d-4a604bac8bcd"
      },
      "outputs": [
        {
          "name": "stdout",
          "output_type": "stream",
          "text": [
            "<class 'pandas.core.frame.DataFrame'>\n",
            "RangeIndex: 150000 entries, 0 to 149999\n",
            "Data columns (total 12 columns):\n",
            " #   Column                                Non-Null Count   Dtype  \n",
            "---  ------                                --------------   -----  \n",
            " 0   SeriousDlqin2yrs                      150000 non-null  int64  \n",
            " 1   RevolvingUtilizationOfUnsecuredLines  150000 non-null  float64\n",
            " 2   age                                   150000 non-null  float64\n",
            " 3   NumberOfTime30-59DaysPastDueNotWorse  150000 non-null  int64  \n",
            " 4   DebtRatio                             150000 non-null  float64\n",
            " 5   MonthlyIncome                         150000 non-null  float64\n",
            " 6   NumberOfOpenCreditLinesAndLoans       150000 non-null  int64  \n",
            " 7   NumberOfTimes90DaysLate               150000 non-null  int64  \n",
            " 8   NumberOfTime60-89DaysPastDueNotWorse  150000 non-null  int64  \n",
            " 9   NumberOfDependents                    150000 non-null  float64\n",
            " 10  RealEstateLoansOrLines                150000 non-null  object \n",
            " 11  GroupAge                              150000 non-null  object \n",
            "dtypes: float64(5), int64(5), object(2)\n",
            "memory usage: 13.7+ MB\n"
          ]
        }
      ],
      "source": [
        "df.info()"
      ]
    },
    {
      "cell_type": "code",
      "execution_count": 156,
      "metadata": {},
      "outputs": [
        {
          "name": "stdout",
          "output_type": "stream",
          "text": [
            "значения RealEstateLoansOrLines ['A' 'B' 'C' 'E' 'D']\n",
            "значения GroupAge ['c' 'b' 'd' 'e' 'a']\n"
          ]
        }
      ],
      "source": [
        "print('значения RealEstateLoansOrLines', df['RealEstateLoansOrLines'].unique())\n",
        "print('значения GroupAge', df['GroupAge'].unique())"
      ]
    },
    {
      "cell_type": "code",
      "execution_count": 157,
      "metadata": {
        "id": "2jRpL7k6BJjo"
      },
      "outputs": [],
      "source": [
        "le = LabelEncoder()\n",
        "df['GroupAge'] = le.fit_transform(df['GroupAge'])\n",
        "df['RealEstateLoansOrLines'] = le.fit_transform(df['RealEstateLoansOrLines'])"
      ]
    },
    {
      "cell_type": "code",
      "execution_count": 158,
      "metadata": {
        "colab": {
          "base_uri": "https://localhost:8080/"
        },
        "id": "dcMAxjImByiy",
        "outputId": "18e89195-d4ea-4897-8cec-0a248f920bec"
      },
      "outputs": [
        {
          "name": "stdout",
          "output_type": "stream",
          "text": [
            "значения RealEstateLoansOrLines [0 1 2 4 3]\n",
            "значения GroupAge [2 1 3 4 0]\n"
          ]
        }
      ],
      "source": [
        "print('значения RealEstateLoansOrLines', df['RealEstateLoansOrLines'].unique())\n",
        "print('значения GroupAge', df['GroupAge'].unique())"
      ]
    },
    {
      "cell_type": "code",
      "execution_count": 159,
      "metadata": {
        "id": "HofKEG5xYLcZ"
      },
      "outputs": [
        {
          "data": {
            "image/png": "[encoded data removed]",
            "text/plain": [
              "<Figure size 1500x800 with 1 Axes>"
            ]
          },
          "metadata": {},
          "output_type": "display_data"
        }
      ],
      "source": [
        "exclude_columns = ['SeriousDlqin2yrs', 'RealEstateLoansOrLines', 'GroupAge']\n",
        "cols = [col for col in df.select_dtypes(include=[np.number]).columns if col not in exclude_columns]\n",
        "plt.figure(figsize=(15, 8))\n",
        "sns.boxplot(data=df[cols], orient='h')\n",
        "plt.title('boxplot')\n",
        "plt.xscale('log') \n",
        "plt.show()"
      ]
    },
    {
      "cell_type": "code",
      "execution_count": 160,
      "metadata": {},
      "outputs": [],
      "source": [
        "exclude_columns = ['SeriousDlqin2yrs', 'RealEstateLoansOrLines', 'GroupAge']\n",
        "cols = [col for col in df.select_dtypes(include=[np.number]).columns if col not in exclude_columns]\n",
        "outliers_mask = np.abs(stats.zscore(df[cols])) > 3\n",
        "df = df[~outliers_mask.any(axis=1)]"
      ]
    },
    {
      "cell_type": "code",
      "execution_count": 161,
      "metadata": {},
      "outputs": [
        {
          "name": "stdout",
          "output_type": "stream",
          "text": [
            "9567\n"
          ]
        }
      ],
      "source": [
        "print((df['SeriousDlqin2yrs'] == 1).sum())"
      ]
    },
    {
      "cell_type": "code",
      "execution_count": 162,
      "metadata": {},
      "outputs": [
        {
          "name": "stdout",
          "output_type": "stream",
          "text": [
            "22880\n",
            "7136\n",
            "7906\n"
          ]
        }
      ],
      "source": [
        "print((df['NumberOfTime30-59DaysPastDueNotWorse'] > 0).sum())\n",
        "print((df['NumberOfTime60-89DaysPastDueNotWorse'] > 0).sum())\n",
        "print((df['NumberOfTimes90DaysLate'] > 0).sum())"
      ]
    },
    {
      "cell_type": "code",
      "execution_count": 163,
      "metadata": {},
      "outputs": [],
      "source": [
        "df['NumberOfTime30-89DaysPastDueNotWorse'] = df['NumberOfTime30-59DaysPastDueNotWorse'] + df['NumberOfTime60-89DaysPastDueNotWorse']"
      ]
    },
    {
      "cell_type": "code",
      "execution_count": 164,
      "metadata": {},
      "outputs": [],
      "source": [
        "df = df.drop(['NumberOfTime30-59DaysPastDueNotWorse', 'NumberOfTime60-89DaysPastDueNotWorse'], axis=1)"
      ]
    },
    {
      "cell_type": "code",
      "execution_count": 165,
      "metadata": {},
      "outputs": [
        {
          "data": {
            "text/html": [
              "<div>\n",
              "<style scoped>\n",
              "    .dataframe tbody tr th:only-of-type {\n",
              "        vertical-align: middle;\n",
              "    }\n",
              "\n",
              "    .dataframe tbody tr th {\n",
              "        vertical-align: top;\n",
              "    }\n",
              "\n",
              "    .dataframe thead th {\n",
              "        text-align: right;\n",
              "    }\n",
              "</style>\n",
              "<table border=\"1\" class=\"dataframe\">\n",
              "  <thead>\n",
              "    <tr style=\"text-align: right;\">\n",
              "      <th></th>\n",
              "      <th>SeriousDlqin2yrs</th>\n",
              "      <th>RevolvingUtilizationOfUnsecuredLines</th>\n",
              "      <th>age</th>\n",
              "      <th>DebtRatio</th>\n",
              "      <th>MonthlyIncome</th>\n",
              "      <th>NumberOfOpenCreditLinesAndLoans</th>\n",
              "      <th>NumberOfTimes90DaysLate</th>\n",
              "      <th>NumberOfDependents</th>\n",
              "      <th>RealEstateLoansOrLines</th>\n",
              "      <th>GroupAge</th>\n",
              "      <th>NumberOfTime30-89DaysPastDueNotWorse</th>\n",
              "    </tr>\n",
              "  </thead>\n",
              "  <tbody>\n",
              "    <tr>\n",
              "      <th>count</th>\n",
              "      <td>145619.000000</td>\n",
              "      <td>145619.000000</td>\n",
              "      <td>145619.000000</td>\n",
              "      <td>145619.000000</td>\n",
              "      <td>145619.000000</td>\n",
              "      <td>145619.000000</td>\n",
              "      <td>145619.000000</td>\n",
              "      <td>145619.000000</td>\n",
              "      <td>145619.000000</td>\n",
              "      <td>145619.000000</td>\n",
              "      <td>145619.000000</td>\n",
              "    </tr>\n",
              "    <tr>\n",
              "      <th>mean</th>\n",
              "      <td>0.065699</td>\n",
              "      <td>0.422978</td>\n",
              "      <td>52.225705</td>\n",
              "      <td>301.006466</td>\n",
              "      <td>6116.557942</td>\n",
              "      <td>8.199658</td>\n",
              "      <td>0.090400</td>\n",
              "      <td>0.707312</td>\n",
              "      <td>0.068906</td>\n",
              "      <td>2.769927</td>\n",
              "      <td>0.308167</td>\n",
              "    </tr>\n",
              "    <tr>\n",
              "      <th>std</th>\n",
              "      <td>0.247756</td>\n",
              "      <td>7.146410</td>\n",
              "      <td>14.039512</td>\n",
              "      <td>874.474351</td>\n",
              "      <td>4016.202876</td>\n",
              "      <td>4.631411</td>\n",
              "      <td>0.474761</td>\n",
              "      <td>1.040185</td>\n",
              "      <td>0.283293</td>\n",
              "      <td>0.992752</td>\n",
              "      <td>0.853366</td>\n",
              "    </tr>\n",
              "    <tr>\n",
              "      <th>min</th>\n",
              "      <td>0.000000</td>\n",
              "      <td>0.000000</td>\n",
              "      <td>21.000000</td>\n",
              "      <td>0.000000</td>\n",
              "      <td>0.000000</td>\n",
              "      <td>0.000000</td>\n",
              "      <td>0.000000</td>\n",
              "      <td>0.000000</td>\n",
              "      <td>0.000000</td>\n",
              "      <td>1.000000</td>\n",
              "      <td>0.000000</td>\n",
              "    </tr>\n",
              "    <tr>\n",
              "      <th>25%</th>\n",
              "      <td>0.000000</td>\n",
              "      <td>0.029433</td>\n",
              "      <td>42.000000</td>\n",
              "      <td>0.174503</td>\n",
              "      <td>3868.000000</td>\n",
              "      <td>5.000000</td>\n",
              "      <td>0.000000</td>\n",
              "      <td>0.000000</td>\n",
              "      <td>0.000000</td>\n",
              "      <td>2.000000</td>\n",
              "      <td>0.000000</td>\n",
              "    </tr>\n",
              "    <tr>\n",
              "      <th>50%</th>\n",
              "      <td>0.000000</td>\n",
              "      <td>0.151558</td>\n",
              "      <td>52.000000</td>\n",
              "      <td>0.364763</td>\n",
              "      <td>5400.000000</td>\n",
              "      <td>8.000000</td>\n",
              "      <td>0.000000</td>\n",
              "      <td>0.000000</td>\n",
              "      <td>0.000000</td>\n",
              "      <td>3.000000</td>\n",
              "      <td>0.000000</td>\n",
              "    </tr>\n",
              "    <tr>\n",
              "      <th>75%</th>\n",
              "      <td>0.000000</td>\n",
              "      <td>0.555563</td>\n",
              "      <td>62.000000</td>\n",
              "      <td>0.856955</td>\n",
              "      <td>7296.000000</td>\n",
              "      <td>11.000000</td>\n",
              "      <td>0.000000</td>\n",
              "      <td>1.000000</td>\n",
              "      <td>0.000000</td>\n",
              "      <td>4.000000</td>\n",
              "      <td>0.000000</td>\n",
              "    </tr>\n",
              "    <tr>\n",
              "      <th>max</th>\n",
              "      <td>1.000000</td>\n",
              "      <td>747.000000</td>\n",
              "      <td>94.000000</td>\n",
              "      <td>6466.000000</td>\n",
              "      <td>45000.000000</td>\n",
              "      <td>23.000000</td>\n",
              "      <td>12.000000</td>\n",
              "      <td>4.000000</td>\n",
              "      <td>3.000000</td>\n",
              "      <td>4.000000</td>\n",
              "      <td>15.000000</td>\n",
              "    </tr>\n",
              "  </tbody>\n",
              "</table>\n",
              "</div>"
            ],
            "text/plain": [
              "       SeriousDlqin2yrs  RevolvingUtilizationOfUnsecuredLines            age  \\\n",
              "count     145619.000000                         145619.000000  145619.000000   \n",
              "mean           0.065699                              0.422978      52.225705   \n",
              "std            0.247756                              7.146410      14.039512   \n",
              "min            0.000000                              0.000000      21.000000   \n",
              "25%            0.000000                              0.029433      42.000000   \n",
              "50%            0.000000                              0.151558      52.000000   \n",
              "75%            0.000000                              0.555563      62.000000   \n",
              "max            1.000000                            747.000000      94.000000   \n",
              "\n",
              "           DebtRatio  MonthlyIncome  NumberOfOpenCreditLinesAndLoans  \\\n",
              "count  145619.000000  145619.000000                    145619.000000   \n",
              "mean      301.006466    6116.557942                         8.199658   \n",
              "std       874.474351    4016.202876                         4.631411   \n",
              "min         0.000000       0.000000                         0.000000   \n",
              "25%         0.174503    3868.000000                         5.000000   \n",
              "50%         0.364763    5400.000000                         8.000000   \n",
              "75%         0.856955    7296.000000                        11.000000   \n",
              "max      6466.000000   45000.000000                        23.000000   \n",
              "\n",
              "       NumberOfTimes90DaysLate  NumberOfDependents  RealEstateLoansOrLines  \\\n",
              "count            145619.000000       145619.000000           145619.000000   \n",
              "mean                  0.090400            0.707312                0.068906   \n",
              "std                   0.474761            1.040185                0.283293   \n",
              "min                   0.000000            0.000000                0.000000   \n",
              "25%                   0.000000            0.000000                0.000000   \n",
              "50%                   0.000000            0.000000                0.000000   \n",
              "75%                   0.000000            1.000000                0.000000   \n",
              "max                  12.000000            4.000000                3.000000   \n",
              "\n",
              "            GroupAge  NumberOfTime30-89DaysPastDueNotWorse  \n",
              "count  145619.000000                         145619.000000  \n",
              "mean        2.769927                              0.308167  \n",
              "std         0.992752                              0.853366  \n",
              "min         1.000000                              0.000000  \n",
              "25%         2.000000                              0.000000  \n",
              "50%         3.000000                              0.000000  \n",
              "75%         4.000000                              0.000000  \n",
              "max         4.000000                             15.000000  "
            ]
          },
          "execution_count": 165,
          "metadata": {},
          "output_type": "execute_result"
        }
      ],
      "source": [
        "df.describe()"
      ]
    },
    {
      "cell_type": "code",
      "execution_count": 166,
      "metadata": {},
      "outputs": [],
      "source": [
        "df.loc[df['NumberOfTimes90DaysLate'] > 0, 'NumberOfTimes90DaysLate'] = 1\n",
        "df.loc[df['NumberOfTime30-89DaysPastDueNotWorse'] > 0, 'NumberOfTime30-89DaysPastDueNotWorse'] = 1"
      ]
    },
    {
      "cell_type": "code",
      "execution_count": 167,
      "metadata": {},
      "outputs": [
        {
          "data": {
            "text/html": [
              "<div>\n",
              "<style scoped>\n",
              "    .dataframe tbody tr th:only-of-type {\n",
              "        vertical-align: middle;\n",
              "    }\n",
              "\n",
              "    .dataframe tbody tr th {\n",
              "        vertical-align: top;\n",
              "    }\n",
              "\n",
              "    .dataframe thead th {\n",
              "        text-align: right;\n",
              "    }\n",
              "</style>\n",
              "<table border=\"1\" class=\"dataframe\">\n",
              "  <thead>\n",
              "    <tr style=\"text-align: right;\">\n",
              "      <th></th>\n",
              "      <th>SeriousDlqin2yrs</th>\n",
              "      <th>RevolvingUtilizationOfUnsecuredLines</th>\n",
              "      <th>age</th>\n",
              "      <th>DebtRatio</th>\n",
              "      <th>MonthlyIncome</th>\n",
              "      <th>NumberOfOpenCreditLinesAndLoans</th>\n",
              "      <th>NumberOfTimes90DaysLate</th>\n",
              "      <th>NumberOfDependents</th>\n",
              "      <th>RealEstateLoansOrLines</th>\n",
              "      <th>GroupAge</th>\n",
              "      <th>NumberOfTime30-89DaysPastDueNotWorse</th>\n",
              "    </tr>\n",
              "  </thead>\n",
              "  <tbody>\n",
              "    <tr>\n",
              "      <th>count</th>\n",
              "      <td>145619.000000</td>\n",
              "      <td>145619.000000</td>\n",
              "      <td>145619.000000</td>\n",
              "      <td>145619.000000</td>\n",
              "      <td>145619.000000</td>\n",
              "      <td>145619.000000</td>\n",
              "      <td>145619.000000</td>\n",
              "      <td>145619.000000</td>\n",
              "      <td>145619.000000</td>\n",
              "      <td>145619.000000</td>\n",
              "      <td>145619.000000</td>\n",
              "    </tr>\n",
              "    <tr>\n",
              "      <th>mean</th>\n",
              "      <td>0.065699</td>\n",
              "      <td>0.422978</td>\n",
              "      <td>52.225705</td>\n",
              "      <td>301.006466</td>\n",
              "      <td>6116.557942</td>\n",
              "      <td>8.199658</td>\n",
              "      <td>0.054292</td>\n",
              "      <td>0.707312</td>\n",
              "      <td>0.068906</td>\n",
              "      <td>2.769927</td>\n",
              "      <td>0.178576</td>\n",
              "    </tr>\n",
              "    <tr>\n",
              "      <th>std</th>\n",
              "      <td>0.247756</td>\n",
              "      <td>7.146410</td>\n",
              "      <td>14.039512</td>\n",
              "      <td>874.474351</td>\n",
              "      <td>4016.202876</td>\n",
              "      <td>4.631411</td>\n",
              "      <td>0.226594</td>\n",
              "      <td>1.040185</td>\n",
              "      <td>0.283293</td>\n",
              "      <td>0.992752</td>\n",
              "      <td>0.382998</td>\n",
              "    </tr>\n",
              "    <tr>\n",
              "      <th>min</th>\n",
              "      <td>0.000000</td>\n",
              "      <td>0.000000</td>\n",
              "      <td>21.000000</td>\n",
              "      <td>0.000000</td>\n",
              "      <td>0.000000</td>\n",
              "      <td>0.000000</td>\n",
              "      <td>0.000000</td>\n",
              "      <td>0.000000</td>\n",
              "      <td>0.000000</td>\n",
              "      <td>1.000000</td>\n",
              "      <td>0.000000</td>\n",
              "    </tr>\n",
              "    <tr>\n",
              "      <th>25%</th>\n",
              "      <td>0.000000</td>\n",
              "      <td>0.029433</td>\n",
              "      <td>42.000000</td>\n",
              "      <td>0.174503</td>\n",
              "      <td>3868.000000</td>\n",
              "      <td>5.000000</td>\n",
              "      <td>0.000000</td>\n",
              "      <td>0.000000</td>\n",
              "      <td>0.000000</td>\n",
              "      <td>2.000000</td>\n",
              "      <td>0.000000</td>\n",
              "    </tr>\n",
              "    <tr>\n",
              "      <th>50%</th>\n",
              "      <td>0.000000</td>\n",
              "      <td>0.151558</td>\n",
              "      <td>52.000000</td>\n",
              "      <td>0.364763</td>\n",
              "      <td>5400.000000</td>\n",
              "      <td>8.000000</td>\n",
              "      <td>0.000000</td>\n",
              "      <td>0.000000</td>\n",
              "      <td>0.000000</td>\n",
              "      <td>3.000000</td>\n",
              "      <td>0.000000</td>\n",
              "    </tr>\n",
              "    <tr>\n",
              "      <th>75%</th>\n",
              "      <td>0.000000</td>\n",
              "      <td>0.555563</td>\n",
              "      <td>62.000000</td>\n",
              "      <td>0.856955</td>\n",
              "      <td>7296.000000</td>\n",
              "      <td>11.000000</td>\n",
              "      <td>0.000000</td>\n",
              "      <td>1.000000</td>\n",
              "      <td>0.000000</td>\n",
              "      <td>4.000000</td>\n",
              "      <td>0.000000</td>\n",
              "    </tr>\n",
              "    <tr>\n",
              "      <th>max</th>\n",
              "      <td>1.000000</td>\n",
              "      <td>747.000000</td>\n",
              "      <td>94.000000</td>\n",
              "      <td>6466.000000</td>\n",
              "      <td>45000.000000</td>\n",
              "      <td>23.000000</td>\n",
              "      <td>1.000000</td>\n",
              "      <td>4.000000</td>\n",
              "      <td>3.000000</td>\n",
              "      <td>4.000000</td>\n",
              "      <td>1.000000</td>\n",
              "    </tr>\n",
              "  </tbody>\n",
              "</table>\n",
              "</div>"
            ],
            "text/plain": [
              "       SeriousDlqin2yrs  RevolvingUtilizationOfUnsecuredLines            age  \\\n",
              "count     145619.000000                         145619.000000  145619.000000   \n",
              "mean           0.065699                              0.422978      52.225705   \n",
              "std            0.247756                              7.146410      14.039512   \n",
              "min            0.000000                              0.000000      21.000000   \n",
              "25%            0.000000                              0.029433      42.000000   \n",
              "50%            0.000000                              0.151558      52.000000   \n",
              "75%            0.000000                              0.555563      62.000000   \n",
              "max            1.000000                            747.000000      94.000000   \n",
              "\n",
              "           DebtRatio  MonthlyIncome  NumberOfOpenCreditLinesAndLoans  \\\n",
              "count  145619.000000  145619.000000                    145619.000000   \n",
              "mean      301.006466    6116.557942                         8.199658   \n",
              "std       874.474351    4016.202876                         4.631411   \n",
              "min         0.000000       0.000000                         0.000000   \n",
              "25%         0.174503    3868.000000                         5.000000   \n",
              "50%         0.364763    5400.000000                         8.000000   \n",
              "75%         0.856955    7296.000000                        11.000000   \n",
              "max      6466.000000   45000.000000                        23.000000   \n",
              "\n",
              "       NumberOfTimes90DaysLate  NumberOfDependents  RealEstateLoansOrLines  \\\n",
              "count            145619.000000       145619.000000           145619.000000   \n",
              "mean                  0.054292            0.707312                0.068906   \n",
              "std                   0.226594            1.040185                0.283293   \n",
              "min                   0.000000            0.000000                0.000000   \n",
              "25%                   0.000000            0.000000                0.000000   \n",
              "50%                   0.000000            0.000000                0.000000   \n",
              "75%                   0.000000            1.000000                0.000000   \n",
              "max                   1.000000            4.000000                3.000000   \n",
              "\n",
              "            GroupAge  NumberOfTime30-89DaysPastDueNotWorse  \n",
              "count  145619.000000                         145619.000000  \n",
              "mean        2.769927                              0.178576  \n",
              "std         0.992752                              0.382998  \n",
              "min         1.000000                              0.000000  \n",
              "25%         2.000000                              0.000000  \n",
              "50%         3.000000                              0.000000  \n",
              "75%         4.000000                              0.000000  \n",
              "max         4.000000                              1.000000  "
            ]
          },
          "execution_count": 167,
          "metadata": {},
          "output_type": "execute_result"
        }
      ],
      "source": [
        "df.describe()"
      ]
    },
    {
      "cell_type": "code",
      "execution_count": 168,
      "metadata": {
        "id": "nodFYa6xcdp1"
      },
      "outputs": [],
      "source": [
        "df.to_csv('cleaned_df.csv', index=False)"
      ]
    },
    {
      "cell_type": "code",
      "execution_count": null,
      "metadata": {},
      "outputs": [],
      "source": []
    }
  ],
  "metadata": {
    "colab": {
      "provenance": []
    },
    "kernelspec": {
      "display_name": "Python 3",
      "name": "python3"
    },
    "language_info": {
      "codemirror_mode": {
        "name": "ipython",
        "version": 3
      },
      "file_extension": ".py",
      "mimetype": "text/x-python",
      "name": "python",
      "nbconvert_exporter": "python",
      "pygments_lexer": "ipython3",
      "version": "3.11.9"
    }
  },
  "nbformat": 4,
  "nbformat_minor": 0
}
